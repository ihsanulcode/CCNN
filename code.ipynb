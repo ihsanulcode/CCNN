{
 "cells": [
  {
   "cell_type": "code",
   "execution_count": 1,
   "id": "bb653f59-bb5a-4c5c-bde8-60cec1a48ba6",
   "metadata": {},
   "outputs": [
    {
     "data": {
      "text/plain": [
       "device(type='cuda')"
      ]
     },
     "execution_count": 1,
     "metadata": {},
     "output_type": "execute_result"
    }
   ],
   "source": [
    "import torch\n",
    "\n",
    "# Device configuration\n",
    "device = torch.device('cuda' if torch.cuda.is_available() else 'cpu')\n",
    "device"
   ]
  },
  {
   "cell_type": "markdown",
   "id": "c6197870-660a-4577-a7f8-a6e213a389b3",
   "metadata": {},
   "source": [
    "## Custom CNN Network using VGG Blocks"
   ]
  },
  {
   "cell_type": "code",
   "execution_count": 2,
   "id": "274ac413-a9ff-4bb8-9f9d-1aadd20ed0db",
   "metadata": {},
   "outputs": [],
   "source": [
    "import torch.nn as nn\n",
    "import torch.nn.functional as F\n",
    "\n",
    "class CustomVGG(nn.Module):\n",
    "    def __init__(self, num_classes=10):\n",
    "        super(CustomVGG, self).__init__()\n",
    "        \n",
    "        # VGG blocks\n",
    "        self.block1 = self._make_vgg_block(3, 64, 2)\n",
    "        self.block2 = self._make_vgg_block(64, 128, 2)\n",
    "        self.block3 = self._make_vgg_block(128, 256, 3)\n",
    "        self.block4 = self._make_vgg_block(256, 512, 3)\n",
    "        self.block5 = self._make_vgg_block(512, 512, 3)\n",
    "        \n",
    "        # Fully connected layers\n",
    "        self.fc1 = nn.Linear(512 * 7 * 7, 4096)\n",
    "        self.fc2 = nn.Linear(4096, 4096)\n",
    "        self.fc3 = nn.Linear(4096, num_classes)\n",
    "        \n",
    "        # Dropout layers\n",
    "        self.dropout = nn.Dropout(0.5)\n",
    "        \n",
    "    def _make_vgg_block(self, in_channels, out_channels, num_convs):\n",
    "        layers = []\n",
    "        for _ in range(num_convs):\n",
    "            layers.append(nn.Conv2d(in_channels, out_channels, kernel_size=3, padding=1))\n",
    "            layers.append(nn.ReLU(inplace=True))\n",
    "            in_channels = out_channels\n",
    "        layers.append(nn.MaxPool2d(kernel_size=2, stride=2))\n",
    "        return nn.Sequential(*layers)\n",
    "    \n",
    "    def forward(self, x):\n",
    "        x = self.block1(x)\n",
    "        x = self.block2(x)\n",
    "        x = self.block3(x)\n",
    "        x = self.block4(x)\n",
    "        x = self.block5(x)\n",
    "        \n",
    "        x = torch.flatten(x, 1)\n",
    "        \n",
    "        x = self.dropout(F.relu(self.fc1(x)))\n",
    "        x = self.dropout(F.relu(self.fc2(x)))\n",
    "        x = self.fc3(x)\n",
    "        \n",
    "        return x"
   ]
  },
  {
   "cell_type": "markdown",
   "id": "6489150c-7eed-47b9-abb4-18ec55d8accb",
   "metadata": {},
   "source": [
    "## Data Loader"
   ]
  },
  {
   "cell_type": "code",
   "execution_count": 3,
   "id": "7dc2663f-f648-4464-b708-cdf07dc97938",
   "metadata": {},
   "outputs": [],
   "source": [
    "import os\n",
    "import torch\n",
    "from torchvision import datasets, transforms\n",
    "from torch.utils.data import DataLoader\n",
    "\n",
    "data_dir = 'ImageNet/'\n",
    "def get_data_loaders(data_dir, batch_size):\n",
    "    train_transforms = transforms.Compose([\n",
    "        transforms.RandomResizedCrop(224),\n",
    "        transforms.RandomHorizontalFlip(),\n",
    "        transforms.ToTensor(),\n",
    "        transforms.Normalize(mean=[0.485, 0.456, 0.406], std=[0.229, 0.224, 0.225])\n",
    "    ])\n",
    "\n",
    "    val_transforms = transforms.Compose([\n",
    "        transforms.Resize(256),\n",
    "        transforms.CenterCrop(224),\n",
    "        transforms.ToTensor(),\n",
    "        transforms.Normalize(mean=[0.485, 0.456, 0.406], std=[0.229, 0.224, 0.225])\n",
    "    ])\n",
    "\n",
    "    train_dataset = datasets.ImageFolder(os.path.join(data_dir, 'train'), transform=train_transforms)\n",
    "    val_dataset = datasets.ImageFolder(os.path.join(data_dir, 'val'), transform=val_transforms)\n",
    "\n",
    "    train_loader = DataLoader(train_dataset, batch_size=batch_size, shuffle=True, num_workers=4)\n",
    "    val_loader = DataLoader(val_dataset, batch_size=batch_size, shuffle=False, num_workers=4)\n",
    "    return train_loader, val_loader"
   ]
  },
  {
   "cell_type": "markdown",
   "id": "feea463c-62b7-4ea2-b178-bef89cd870de",
   "metadata": {},
   "source": [
    "## Optimizers"
   ]
  },
  {
   "cell_type": "code",
   "execution_count": 4,
   "id": "5ee4f809-7d15-4c37-b5c6-85a48c37395d",
   "metadata": {},
   "outputs": [],
   "source": [
    "# import torch\n",
    "# import torch.nn as nn\n",
    "# import torch.optim as optim\n",
    "# from torchvision import models\n",
    "\n",
    "# # Define a function to load ResNet50 with modified output layer\n",
    "# def load_resnet50(num_classes):\n",
    "#     # Load pre-trained ResNet50\n",
    "#     model =  models.resnet50(weights='ResNet50_Weights.DEFAULT')\n",
    "#     # Modify the last fully connected layer to output 10 classes\n",
    "#     num_features = model.fc.in_features\n",
    "#     model.fc = nn.Linear(num_features, num_classes)\n",
    "#     return model\n",
    "\n",
    "# # Define a function to load VGG16 with modified output layer\n",
    "# def load_vgg16(num_classes):\n",
    "#     # Load pre-trained VGG16\n",
    "#     model = models.vgg16(weights='VGG16_Weights.DEFAULT')\n",
    "#     # Modify the last fully connected layer to output 10 classes\n",
    "#     num_features = model.classifier[6].in_features\n",
    "#     model.classifier[6] = nn.Linear(num_features, num_classes)\n",
    "#     return model"
   ]
  },
  {
   "cell_type": "code",
   "execution_count": 5,
   "id": "c01b4994-a218-41a1-9652-250cf5aceadd",
   "metadata": {},
   "outputs": [],
   "source": [
    "import torch.optim as optim\n",
    "\n",
    "# Function to create and return the model and optimizer\n",
    "def create_model_optimizer(optimizer_name):\n",
    "    model = CustomVGG(num_classes=10).to(device)\n",
    "    # model = load_vgg16(num_classes=10).to(device)\n",
    "    optimizers = {\n",
    "        'SGD': optim.SGD(model.parameters(), lr=0.001, momentum=0.9),\n",
    "        'Adam': optim.Adam(model.parameters(), lr=0.0001),\n",
    "        'RMSprop': optim.RMSprop(model.parameters(), lr=0.0001),\n",
    "        'AdamW': optim.AdamW(model.parameters(), lr=0.0001),\n",
    "        'Adamax': optim.Adamax(model.parameters(), lr=0.0001),\n",
    "        'SparseAdam': optim.SparseAdam(model.parameters(), lr=0.0001),\n",
    "        'RAdam': optim.RAdam(model.parameters(), lr=0.0001),\n",
    "        'NAdam': optim.NAdam(model.parameters(), lr=0.0001)\n",
    "    }\n",
    "    optimizer = optimizers[optimizer_name]\n",
    "    return model, optimizer"
   ]
  },
  {
   "cell_type": "markdown",
   "id": "6e773466-1c67-49a7-9b44-470e3a515846",
   "metadata": {},
   "source": [
    "# Training Loop"
   ]
  },
  {
   "cell_type": "code",
   "execution_count": 9,
   "id": "697e553d-f8fa-40ed-b7dc-e66f83dbff03",
   "metadata": {},
   "outputs": [],
   "source": [
    "import pandas as pd\n",
    "from tqdm import tqdm\n",
    "from torch.cuda.amp import GradScaler, autocast\n",
    "\n",
    "# Function to train and evaluate the model\n",
    "def train_and_evaluate(optimizer_name, train_loader, val_loader):\n",
    "    model, optimizer = create_model_optimizer(optimizer_name)\n",
    "    criterion = nn.CrossEntropyLoss()\n",
    "    scheduler = optim.lr_scheduler.StepLR(optimizer, step_size=5, gamma=0.1)\n",
    "    scaler = GradScaler()\n",
    "\n",
    "    best_val_acc = 0\n",
    "    best_model_wts = None\n",
    "    patience = 5\n",
    "    trigger_times = 0\n",
    "\n",
    "    train_losses, val_losses = [], []\n",
    "    train_accuracies, val_accuracies = [], []\n",
    "\n",
    "    # Initialize lists to store epoch-wise data\n",
    "    epoch_data = {\n",
    "        'Epoch': [],\n",
    "        'Train Loss': [],\n",
    "        'Train Acc': [],\n",
    "        'Val Loss': [],\n",
    "        'Val Acc': []\n",
    "    }\n",
    "\n",
    "    for epoch in range(num_epochs):\n",
    "        model.train()\n",
    "        running_loss, correct, total = 0.0, 0, 0\n",
    "\n",
    "        loop = tqdm(train_loader, desc=f'Epoch [{epoch+1}/{num_epochs}]', leave=True)\n",
    "        for inputs, labels in loop:\n",
    "            inputs, labels = inputs.to(device), labels.to(device)\n",
    "            optimizer.zero_grad()\n",
    "\n",
    "            with autocast():\n",
    "                outputs = model(inputs)\n",
    "                loss = criterion(outputs, labels)\n",
    "            \n",
    "            scaler.scale(loss).backward()\n",
    "            nn.utils.clip_grad_norm_(model.parameters(), max_norm=1.0)\n",
    "            scaler.step(optimizer)\n",
    "            scaler.update()\n",
    "\n",
    "            running_loss += loss.item()\n",
    "            _, predicted = torch.max(outputs.data, 1)\n",
    "            total += labels.size(0)\n",
    "            correct += (predicted == labels).sum().item()\n",
    "            loop.set_postfix(loss=loss.item())\n",
    "        \n",
    "        train_loss = running_loss / len(train_loader)\n",
    "        train_accuracy = 100 * correct / total\n",
    "        train_losses.append(train_loss)\n",
    "        train_accuracies.append(train_accuracy)\n",
    "\n",
    "        val_loss, val_correct, val_total = 0.0, 0, 0\n",
    "        model.eval()\n",
    "        with torch.no_grad():\n",
    "            for inputs, labels in val_loader:\n",
    "                inputs, labels = inputs.to(device), labels.to(device)\n",
    "                outputs = model(inputs)\n",
    "                loss = criterion(outputs, labels)\n",
    "                val_loss += loss.item()\n",
    "\n",
    "                _, predicted = torch.max(outputs.data, 1)\n",
    "                val_total += labels.size(0)\n",
    "                val_correct += (predicted == labels).sum().item()\n",
    "        \n",
    "        val_loss /= len(val_loader)\n",
    "        val_accuracy = 100 * val_correct / val_total\n",
    "        val_losses.append(val_loss)\n",
    "        val_accuracies.append(val_accuracy)\n",
    "\n",
    "        scheduler.step()\n",
    "\n",
    "        # Add epoch-wise data to the dictionary\n",
    "        epoch_data['Epoch'].append(epoch + 1)\n",
    "        epoch_data['Train Loss'].append(train_loss)\n",
    "        epoch_data['Train Acc'].append(train_accuracy)\n",
    "        epoch_data['Val Loss'].append(val_loss)\n",
    "        epoch_data['Val Acc'].append(val_accuracy)\n",
    "\n",
    "        print(f'Epoch [{epoch+1}/{num_epochs}] - Train Loss: {train_loss:.4f}, Train Acc: {train_accuracy:.2f}%, Val Loss: {val_loss:.4f}, Val Acc: {val_accuracy:.2f}%')\n",
    "\n",
    "        if val_accuracy > best_val_acc:\n",
    "            best_val_acc = val_accuracy\n",
    "            best_model_wts = model.state_dict().copy()\n",
    "            trigger_times = 0\n",
    "        else:\n",
    "            trigger_times += 1\n",
    "\n",
    "        if trigger_times >= patience:\n",
    "            print('Early stopping triggered')\n",
    "            break\n",
    "\n",
    "    print(f'Best Validation Accuracy: {best_val_acc:.2f}%')\n",
    "    if best_model_wts:\n",
    "        model.load_state_dict(best_model_wts)\n",
    "    torch.save({\n",
    "        'model_state_dict': model.state_dict(),\n",
    "        'optimizer_state_dict': optimizer.state_dict(),\n",
    "        'best_val_acc': best_val_acc\n",
    "    }, f'model_{optimizer_name}_batch_size_{batch_size}.pth')\n",
    "\n",
    "    # Convert epoch-wise data dictionary to DataFrame\n",
    "    df = pd.DataFrame(epoch_data)\n",
    "\n",
    "    # Save DataFrame to CSV file\n",
    "    df.to_csv(f'epoch_data_{optimizer_name}_batch_size_{batch_size}.csv', index=False)\n",
    "\n",
    "    return train_losses, val_losses, train_accuracies, val_accuracies"
   ]
  },
  {
   "cell_type": "code",
   "execution_count": 10,
   "id": "26c445ca-eb43-463f-b216-781d11bb9fdc",
   "metadata": {},
   "outputs": [
    {
     "name": "stdout",
     "output_type": "stream",
     "text": [
      "Training with optimizer SGD and batch size 8\n"
     ]
    },
    {
     "name": "stderr",
     "output_type": "stream",
     "text": [
      "Epoch [1/10]: 100%|████████████████████████████████████████████████████████| 125/125 [00:13<00:00,  9.59it/s, loss=2.3]\n"
     ]
    },
    {
     "name": "stdout",
     "output_type": "stream",
     "text": [
      "Epoch [1/10] - Train Loss: 2.3026, Train Acc: 9.60%, Val Loss: 2.3026, Val Acc: 10.00%\n"
     ]
    },
    {
     "name": "stderr",
     "output_type": "stream",
     "text": [
      "Epoch [2/10]: 100%|████████████████████████████████████████████████████████| 125/125 [00:13<00:00,  9.55it/s, loss=2.3]\n"
     ]
    },
    {
     "name": "stdout",
     "output_type": "stream",
     "text": [
      "Epoch [2/10] - Train Loss: 2.3028, Train Acc: 9.30%, Val Loss: 2.3026, Val Acc: 10.00%\n"
     ]
    },
    {
     "name": "stderr",
     "output_type": "stream",
     "text": [
      "Epoch [3/10]: 100%|████████████████████████████████████████████████████████| 125/125 [00:12<00:00,  9.71it/s, loss=2.3]\n"
     ]
    },
    {
     "name": "stdout",
     "output_type": "stream",
     "text": [
      "Epoch [3/10] - Train Loss: 2.3025, Train Acc: 11.70%, Val Loss: 2.3026, Val Acc: 10.00%\n"
     ]
    },
    {
     "name": "stderr",
     "output_type": "stream",
     "text": [
      "Epoch [4/10]: 100%|████████████████████████████████████████████████████████| 125/125 [00:12<00:00,  9.70it/s, loss=2.3]\n"
     ]
    },
    {
     "name": "stdout",
     "output_type": "stream",
     "text": [
      "Epoch [4/10] - Train Loss: 2.3025, Train Acc: 11.30%, Val Loss: 2.3026, Val Acc: 10.00%\n"
     ]
    },
    {
     "name": "stderr",
     "output_type": "stream",
     "text": [
      "Epoch [5/10]: 100%|████████████████████████████████████████████████████████| 125/125 [00:12<00:00,  9.72it/s, loss=2.3]\n"
     ]
    },
    {
     "name": "stdout",
     "output_type": "stream",
     "text": [
      "Epoch [5/10] - Train Loss: 2.3025, Train Acc: 9.20%, Val Loss: 2.3026, Val Acc: 10.00%\n"
     ]
    },
    {
     "name": "stderr",
     "output_type": "stream",
     "text": [
      "Epoch [6/10]: 100%|███████████████████████████████████████████████████████| 125/125 [00:12<00:00,  9.74it/s, loss=2.31]\n"
     ]
    },
    {
     "name": "stdout",
     "output_type": "stream",
     "text": [
      "Epoch [6/10] - Train Loss: 2.3024, Train Acc: 10.10%, Val Loss: 2.3026, Val Acc: 10.00%\n",
      "Early stopping triggered\n",
      "Best Validation Accuracy: 10.00%\n",
      "Training with optimizer SGD and batch size 16\n"
     ]
    },
    {
     "name": "stderr",
     "output_type": "stream",
     "text": [
      "Epoch [1/10]: 100%|██████████████████████████████████████████████████████████| 63/63 [00:10<00:00,  5.93it/s, loss=2.3]\n"
     ]
    },
    {
     "name": "stdout",
     "output_type": "stream",
     "text": [
      "Epoch [1/10] - Train Loss: 2.3026, Train Acc: 9.90%, Val Loss: 2.3033, Val Acc: 10.00%\n"
     ]
    },
    {
     "name": "stderr",
     "output_type": "stream",
     "text": [
      "Epoch [2/10]: 100%|█████████████████████████████████████████████████████████| 63/63 [00:10<00:00,  5.95it/s, loss=2.31]\n"
     ]
    },
    {
     "name": "stdout",
     "output_type": "stream",
     "text": [
      "Epoch [2/10] - Train Loss: 2.3027, Train Acc: 10.40%, Val Loss: 2.3033, Val Acc: 10.00%\n"
     ]
    },
    {
     "name": "stderr",
     "output_type": "stream",
     "text": [
      "Epoch [3/10]: 100%|██████████████████████████████████████████████████████████| 63/63 [00:10<00:00,  6.02it/s, loss=2.3]\n"
     ]
    },
    {
     "name": "stdout",
     "output_type": "stream",
     "text": [
      "Epoch [3/10] - Train Loss: 2.3027, Train Acc: 9.30%, Val Loss: 2.3033, Val Acc: 10.00%\n"
     ]
    },
    {
     "name": "stderr",
     "output_type": "stream",
     "text": [
      "Epoch [4/10]: 100%|██████████████████████████████████████████████████████████| 63/63 [00:10<00:00,  6.01it/s, loss=2.3]\n"
     ]
    },
    {
     "name": "stdout",
     "output_type": "stream",
     "text": [
      "Epoch [4/10] - Train Loss: 2.3027, Train Acc: 11.00%, Val Loss: 2.3033, Val Acc: 10.00%\n"
     ]
    },
    {
     "name": "stderr",
     "output_type": "stream",
     "text": [
      "Epoch [5/10]: 100%|██████████████████████████████████████████████████████████| 63/63 [00:10<00:00,  6.03it/s, loss=2.3]\n"
     ]
    },
    {
     "name": "stdout",
     "output_type": "stream",
     "text": [
      "Epoch [5/10] - Train Loss: 2.3025, Train Acc: 9.60%, Val Loss: 2.3033, Val Acc: 10.00%\n"
     ]
    },
    {
     "name": "stderr",
     "output_type": "stream",
     "text": [
      "Epoch [6/10]: 100%|█████████████████████████████████████████████████████████| 63/63 [00:10<00:00,  6.02it/s, loss=2.31]\n"
     ]
    },
    {
     "name": "stdout",
     "output_type": "stream",
     "text": [
      "Epoch [6/10] - Train Loss: 2.3025, Train Acc: 10.90%, Val Loss: 2.3033, Val Acc: 10.00%\n",
      "Early stopping triggered\n",
      "Best Validation Accuracy: 10.00%\n",
      "Training with optimizer SGD and batch size 32\n"
     ]
    },
    {
     "name": "stderr",
     "output_type": "stream",
     "text": [
      "Epoch [1/10]: 100%|█████████████████████████████████████████████████████████| 32/32 [00:09<00:00,  3.37it/s, loss=2.31]\n"
     ]
    },
    {
     "name": "stdout",
     "output_type": "stream",
     "text": [
      "Epoch [1/10] - Train Loss: 2.3028, Train Acc: 10.10%, Val Loss: 2.3063, Val Acc: 10.00%\n"
     ]
    },
    {
     "name": "stderr",
     "output_type": "stream",
     "text": [
      "Epoch [2/10]: 100%|██████████████████████████████████████████████████████████| 32/32 [00:09<00:00,  3.39it/s, loss=2.3]\n"
     ]
    },
    {
     "name": "stdout",
     "output_type": "stream",
     "text": [
      "Epoch [2/10] - Train Loss: 2.3026, Train Acc: 10.40%, Val Loss: 2.3063, Val Acc: 10.00%\n"
     ]
    },
    {
     "name": "stderr",
     "output_type": "stream",
     "text": [
      "Epoch [3/10]: 100%|██████████████████████████████████████████████████████████| 32/32 [00:09<00:00,  3.41it/s, loss=2.3]\n"
     ]
    },
    {
     "name": "stdout",
     "output_type": "stream",
     "text": [
      "Epoch [3/10] - Train Loss: 2.3026, Train Acc: 10.00%, Val Loss: 2.3063, Val Acc: 10.00%\n"
     ]
    },
    {
     "name": "stderr",
     "output_type": "stream",
     "text": [
      "Epoch [4/10]: 100%|█████████████████████████████████████████████████████████| 32/32 [00:09<00:00,  3.41it/s, loss=2.31]\n"
     ]
    },
    {
     "name": "stdout",
     "output_type": "stream",
     "text": [
      "Epoch [4/10] - Train Loss: 2.3027, Train Acc: 10.30%, Val Loss: 2.3063, Val Acc: 10.00%\n"
     ]
    },
    {
     "name": "stderr",
     "output_type": "stream",
     "text": [
      "Epoch [5/10]: 100%|██████████████████████████████████████████████████████████| 32/32 [00:09<00:00,  3.41it/s, loss=2.3]\n"
     ]
    },
    {
     "name": "stdout",
     "output_type": "stream",
     "text": [
      "Epoch [5/10] - Train Loss: 2.3027, Train Acc: 9.60%, Val Loss: 2.3063, Val Acc: 10.00%\n"
     ]
    },
    {
     "name": "stderr",
     "output_type": "stream",
     "text": [
      "Epoch [6/10]: 100%|█████████████████████████████████████████████████████████| 32/32 [00:09<00:00,  3.43it/s, loss=2.31]\n"
     ]
    },
    {
     "name": "stdout",
     "output_type": "stream",
     "text": [
      "Epoch [6/10] - Train Loss: 2.3027, Train Acc: 10.30%, Val Loss: 2.3063, Val Acc: 10.00%\n",
      "Early stopping triggered\n",
      "Best Validation Accuracy: 10.00%\n",
      "Training with optimizer Adam and batch size 8\n"
     ]
    },
    {
     "name": "stderr",
     "output_type": "stream",
     "text": [
      "Epoch [1/10]: 100%|████████████████████████████████████████████████████████| 125/125 [00:15<00:00,  7.92it/s, loss=2.3]\n"
     ]
    },
    {
     "name": "stdout",
     "output_type": "stream",
     "text": [
      "Epoch [1/10] - Train Loss: 2.3040, Train Acc: 9.30%, Val Loss: 2.3029, Val Acc: 10.00%\n"
     ]
    },
    {
     "name": "stderr",
     "output_type": "stream",
     "text": [
      "Epoch [2/10]: 100%|████████████████████████████████████████████████████████| 125/125 [00:15<00:00,  7.95it/s, loss=2.3]\n"
     ]
    },
    {
     "name": "stdout",
     "output_type": "stream",
     "text": [
      "Epoch [2/10] - Train Loss: 2.3036, Train Acc: 8.70%, Val Loss: 2.3028, Val Acc: 10.00%\n"
     ]
    },
    {
     "name": "stderr",
     "output_type": "stream",
     "text": [
      "Epoch [3/10]: 100%|████████████████████████████████████████████████████████| 125/125 [00:15<00:00,  7.99it/s, loss=2.3]\n"
     ]
    },
    {
     "name": "stdout",
     "output_type": "stream",
     "text": [
      "Epoch [3/10] - Train Loss: 2.3036, Train Acc: 8.40%, Val Loss: 2.3028, Val Acc: 10.00%\n"
     ]
    },
    {
     "name": "stderr",
     "output_type": "stream",
     "text": [
      "Epoch [4/10]: 100%|████████████████████████████████████████████████████████| 125/125 [00:15<00:00,  8.03it/s, loss=2.3]\n"
     ]
    },
    {
     "name": "stdout",
     "output_type": "stream",
     "text": [
      "Epoch [4/10] - Train Loss: 2.3037, Train Acc: 6.80%, Val Loss: 2.3030, Val Acc: 10.00%\n"
     ]
    },
    {
     "name": "stderr",
     "output_type": "stream",
     "text": [
      "Epoch [5/10]: 100%|███████████████████████████████████████████████████████| 125/125 [00:15<00:00,  8.04it/s, loss=2.31]\n"
     ]
    },
    {
     "name": "stdout",
     "output_type": "stream",
     "text": [
      "Epoch [5/10] - Train Loss: 2.3032, Train Acc: 9.30%, Val Loss: 2.3024, Val Acc: 10.00%\n"
     ]
    },
    {
     "name": "stderr",
     "output_type": "stream",
     "text": [
      "Epoch [6/10]: 100%|███████████████████████████████████████████████████████| 125/125 [00:15<00:00,  8.05it/s, loss=2.31]\n"
     ]
    },
    {
     "name": "stdout",
     "output_type": "stream",
     "text": [
      "Epoch [6/10] - Train Loss: 2.3027, Train Acc: 9.50%, Val Loss: 2.3024, Val Acc: 10.00%\n",
      "Early stopping triggered\n",
      "Best Validation Accuracy: 10.00%\n",
      "Training with optimizer Adam and batch size 16\n"
     ]
    },
    {
     "name": "stderr",
     "output_type": "stream",
     "text": [
      "Epoch [1/10]: 100%|█████████████████████████████████████████████████████████| 63/63 [00:12<00:00,  5.17it/s, loss=2.31]\n"
     ]
    },
    {
     "name": "stdout",
     "output_type": "stream",
     "text": [
      "Epoch [1/10] - Train Loss: 2.3031, Train Acc: 8.80%, Val Loss: 2.3009, Val Acc: 10.00%\n"
     ]
    },
    {
     "name": "stderr",
     "output_type": "stream",
     "text": [
      "Epoch [2/10]: 100%|██████████████████████████████████████████████████████████| 63/63 [00:11<00:00,  5.34it/s, loss=2.3]\n"
     ]
    },
    {
     "name": "stdout",
     "output_type": "stream",
     "text": [
      "Epoch [2/10] - Train Loss: 2.3032, Train Acc: 8.30%, Val Loss: 2.3016, Val Acc: 10.00%\n"
     ]
    },
    {
     "name": "stderr",
     "output_type": "stream",
     "text": [
      "Epoch [3/10]: 100%|██████████████████████████████████████████████████████████| 63/63 [00:12<00:00,  5.15it/s, loss=2.3]\n"
     ]
    },
    {
     "name": "stdout",
     "output_type": "stream",
     "text": [
      "Epoch [3/10] - Train Loss: 2.3027, Train Acc: 10.10%, Val Loss: 2.3011, Val Acc: 10.00%\n"
     ]
    },
    {
     "name": "stderr",
     "output_type": "stream",
     "text": [
      "Epoch [4/10]: 100%|██████████████████████████████████████████████████████████| 63/63 [00:11<00:00,  5.33it/s, loss=2.3]\n"
     ]
    },
    {
     "name": "stdout",
     "output_type": "stream",
     "text": [
      "Epoch [4/10] - Train Loss: 2.3033, Train Acc: 9.60%, Val Loss: 2.3011, Val Acc: 10.00%\n"
     ]
    },
    {
     "name": "stderr",
     "output_type": "stream",
     "text": [
      "Epoch [5/10]: 100%|██████████████████████████████████████████████████████████| 63/63 [00:11<00:00,  5.28it/s, loss=2.3]\n"
     ]
    },
    {
     "name": "stdout",
     "output_type": "stream",
     "text": [
      "Epoch [5/10] - Train Loss: 2.3032, Train Acc: 10.40%, Val Loss: 2.3010, Val Acc: 10.00%\n"
     ]
    },
    {
     "name": "stderr",
     "output_type": "stream",
     "text": [
      "Epoch [6/10]: 100%|█████████████████████████████████████████████████████████| 63/63 [00:11<00:00,  5.34it/s, loss=2.31]\n"
     ]
    },
    {
     "name": "stdout",
     "output_type": "stream",
     "text": [
      "Epoch [6/10] - Train Loss: 2.3026, Train Acc: 10.40%, Val Loss: 2.3012, Val Acc: 10.00%\n",
      "Early stopping triggered\n",
      "Best Validation Accuracy: 10.00%\n",
      "Training with optimizer Adam and batch size 32\n"
     ]
    },
    {
     "name": "stderr",
     "output_type": "stream",
     "text": [
      "Epoch [1/10]: 100%|██████████████████████████████████████████████████████████| 32/32 [00:10<00:00,  3.12it/s, loss=2.3]\n"
     ]
    },
    {
     "name": "stdout",
     "output_type": "stream",
     "text": [
      "Epoch [1/10] - Train Loss: 2.3034, Train Acc: 8.90%, Val Loss: 2.3014, Val Acc: 10.00%\n"
     ]
    },
    {
     "name": "stderr",
     "output_type": "stream",
     "text": [
      "Epoch [2/10]: 100%|██████████████████████████████████████████████████████████| 32/32 [00:10<00:00,  3.17it/s, loss=2.3]\n"
     ]
    },
    {
     "name": "stdout",
     "output_type": "stream",
     "text": [
      "Epoch [2/10] - Train Loss: 2.3027, Train Acc: 9.90%, Val Loss: 2.3018, Val Acc: 10.00%\n"
     ]
    },
    {
     "name": "stderr",
     "output_type": "stream",
     "text": [
      "Epoch [3/10]: 100%|█████████████████████████████████████████████████████████| 32/32 [00:10<00:00,  3.17it/s, loss=2.31]\n"
     ]
    },
    {
     "name": "stdout",
     "output_type": "stream",
     "text": [
      "Epoch [3/10] - Train Loss: 2.3031, Train Acc: 8.60%, Val Loss: 2.3018, Val Acc: 10.00%\n"
     ]
    },
    {
     "name": "stderr",
     "output_type": "stream",
     "text": [
      "Epoch [4/10]: 100%|█████████████████████████████████████████████████████████| 32/32 [00:10<00:00,  3.17it/s, loss=2.31]\n"
     ]
    },
    {
     "name": "stdout",
     "output_type": "stream",
     "text": [
      "Epoch [4/10] - Train Loss: 2.3031, Train Acc: 9.50%, Val Loss: 2.3009, Val Acc: 10.00%\n"
     ]
    },
    {
     "name": "stderr",
     "output_type": "stream",
     "text": [
      "Epoch [5/10]: 100%|██████████████████████████████████████████████████████████| 32/32 [00:10<00:00,  3.18it/s, loss=2.3]\n"
     ]
    },
    {
     "name": "stdout",
     "output_type": "stream",
     "text": [
      "Epoch [5/10] - Train Loss: 2.3030, Train Acc: 10.00%, Val Loss: 2.3022, Val Acc: 10.00%\n"
     ]
    },
    {
     "name": "stderr",
     "output_type": "stream",
     "text": [
      "Epoch [6/10]: 100%|██████████████████████████████████████████████████████████| 32/32 [00:10<00:00,  3.18it/s, loss=2.3]\n"
     ]
    },
    {
     "name": "stdout",
     "output_type": "stream",
     "text": [
      "Epoch [6/10] - Train Loss: 2.3025, Train Acc: 9.10%, Val Loss: 2.3023, Val Acc: 10.00%\n",
      "Early stopping triggered\n",
      "Best Validation Accuracy: 10.00%\n",
      "Training with optimizer RMSprop and batch size 8\n"
     ]
    },
    {
     "name": "stderr",
     "output_type": "stream",
     "text": [
      "Epoch [1/10]: 100%|███████████████████████████████████████████████████████| 125/125 [00:14<00:00,  8.68it/s, loss=2.31]\n"
     ]
    },
    {
     "name": "stdout",
     "output_type": "stream",
     "text": [
      "Epoch [1/10] - Train Loss: 2.3044, Train Acc: 7.90%, Val Loss: 2.3026, Val Acc: 10.00%\n"
     ]
    },
    {
     "name": "stderr",
     "output_type": "stream",
     "text": [
      "Epoch [2/10]: 100%|███████████████████████████████████████████████████████| 125/125 [00:14<00:00,  8.72it/s, loss=2.31]\n"
     ]
    },
    {
     "name": "stdout",
     "output_type": "stream",
     "text": [
      "Epoch [2/10] - Train Loss: 2.3035, Train Acc: 8.00%, Val Loss: 2.3024, Val Acc: 10.00%\n"
     ]
    },
    {
     "name": "stderr",
     "output_type": "stream",
     "text": [
      "Epoch [3/10]: 100%|███████████████████████████████████████████████████████| 125/125 [00:14<00:00,  8.72it/s, loss=2.31]\n"
     ]
    },
    {
     "name": "stdout",
     "output_type": "stream",
     "text": [
      "Epoch [3/10] - Train Loss: 2.3036, Train Acc: 10.30%, Val Loss: 2.3025, Val Acc: 10.00%\n"
     ]
    },
    {
     "name": "stderr",
     "output_type": "stream",
     "text": [
      "Epoch [4/10]: 100%|████████████████████████████████████████████████████████| 125/125 [00:14<00:00,  8.79it/s, loss=2.3]\n"
     ]
    },
    {
     "name": "stdout",
     "output_type": "stream",
     "text": [
      "Epoch [4/10] - Train Loss: 2.3035, Train Acc: 9.80%, Val Loss: 2.3025, Val Acc: 10.00%\n"
     ]
    },
    {
     "name": "stderr",
     "output_type": "stream",
     "text": [
      "Epoch [5/10]: 100%|████████████████████████████████████████████████████████| 125/125 [00:14<00:00,  8.83it/s, loss=2.3]\n"
     ]
    },
    {
     "name": "stdout",
     "output_type": "stream",
     "text": [
      "Epoch [5/10] - Train Loss: 2.3033, Train Acc: 9.30%, Val Loss: 2.3027, Val Acc: 10.00%\n"
     ]
    },
    {
     "name": "stderr",
     "output_type": "stream",
     "text": [
      "Epoch [6/10]: 100%|████████████████████████████████████████████████████████| 125/125 [00:14<00:00,  8.85it/s, loss=2.3]\n"
     ]
    },
    {
     "name": "stdout",
     "output_type": "stream",
     "text": [
      "Epoch [6/10] - Train Loss: 2.3028, Train Acc: 9.70%, Val Loss: 2.3027, Val Acc: 10.00%\n",
      "Early stopping triggered\n",
      "Best Validation Accuracy: 10.00%\n",
      "Training with optimizer RMSprop and batch size 16\n"
     ]
    },
    {
     "name": "stderr",
     "output_type": "stream",
     "text": [
      "Epoch [1/10]: 100%|██████████████████████████████████████████████████████████| 63/63 [00:11<00:00,  5.57it/s, loss=2.3]\n"
     ]
    },
    {
     "name": "stdout",
     "output_type": "stream",
     "text": [
      "Epoch [1/10] - Train Loss: 2.3041, Train Acc: 9.00%, Val Loss: 2.3020, Val Acc: 10.00%\n"
     ]
    },
    {
     "name": "stderr",
     "output_type": "stream",
     "text": [
      "Epoch [2/10]: 100%|██████████████████████████████████████████████████████████| 63/63 [00:11<00:00,  5.63it/s, loss=2.3]\n"
     ]
    },
    {
     "name": "stdout",
     "output_type": "stream",
     "text": [
      "Epoch [2/10] - Train Loss: 2.3034, Train Acc: 10.10%, Val Loss: 2.3016, Val Acc: 10.00%\n"
     ]
    },
    {
     "name": "stderr",
     "output_type": "stream",
     "text": [
      "Epoch [3/10]: 100%|██████████████████████████████████████████████████████████| 63/63 [00:11<00:00,  5.61it/s, loss=2.3]\n"
     ]
    },
    {
     "name": "stdout",
     "output_type": "stream",
     "text": [
      "Epoch [3/10] - Train Loss: 2.3035, Train Acc: 7.40%, Val Loss: 2.3022, Val Acc: 10.00%\n"
     ]
    },
    {
     "name": "stderr",
     "output_type": "stream",
     "text": [
      "Epoch [4/10]: 100%|██████████████████████████████████████████████████████████| 63/63 [00:11<00:00,  5.68it/s, loss=2.3]\n"
     ]
    },
    {
     "name": "stdout",
     "output_type": "stream",
     "text": [
      "Epoch [4/10] - Train Loss: 2.3034, Train Acc: 9.00%, Val Loss: 2.3018, Val Acc: 10.00%\n"
     ]
    },
    {
     "name": "stderr",
     "output_type": "stream",
     "text": [
      "Epoch [5/10]: 100%|██████████████████████████████████████████████████████████| 63/63 [00:11<00:00,  5.68it/s, loss=2.3]\n"
     ]
    },
    {
     "name": "stdout",
     "output_type": "stream",
     "text": [
      "Epoch [5/10] - Train Loss: 2.3034, Train Acc: 9.90%, Val Loss: 2.3018, Val Acc: 10.00%\n"
     ]
    },
    {
     "name": "stderr",
     "output_type": "stream",
     "text": [
      "Epoch [6/10]: 100%|█████████████████████████████████████████████████████████| 63/63 [00:11<00:00,  5.67it/s, loss=2.31]\n"
     ]
    },
    {
     "name": "stdout",
     "output_type": "stream",
     "text": [
      "Epoch [6/10] - Train Loss: 2.3029, Train Acc: 10.00%, Val Loss: 2.3018, Val Acc: 10.00%\n",
      "Early stopping triggered\n",
      "Best Validation Accuracy: 10.00%\n",
      "Training with optimizer RMSprop and batch size 32\n"
     ]
    },
    {
     "name": "stderr",
     "output_type": "stream",
     "text": [
      "Epoch [1/10]: 100%|██████████████████████████████████████████████████████████| 32/32 [00:09<00:00,  3.22it/s, loss=2.3]\n"
     ]
    },
    {
     "name": "stdout",
     "output_type": "stream",
     "text": [
      "Epoch [1/10] - Train Loss: 2.3041, Train Acc: 8.20%, Val Loss: 2.3015, Val Acc: 10.00%\n"
     ]
    },
    {
     "name": "stderr",
     "output_type": "stream",
     "text": [
      "Epoch [2/10]: 100%|██████████████████████████████████████████████████████████| 32/32 [00:09<00:00,  3.29it/s, loss=2.3]\n"
     ]
    },
    {
     "name": "stdout",
     "output_type": "stream",
     "text": [
      "Epoch [2/10] - Train Loss: 2.3033, Train Acc: 9.00%, Val Loss: 2.3015, Val Acc: 10.00%\n"
     ]
    },
    {
     "name": "stderr",
     "output_type": "stream",
     "text": [
      "Epoch [3/10]: 100%|██████████████████████████████████████████████████████████| 32/32 [00:09<00:00,  3.28it/s, loss=2.3]\n"
     ]
    },
    {
     "name": "stdout",
     "output_type": "stream",
     "text": [
      "Epoch [3/10] - Train Loss: 2.3035, Train Acc: 9.10%, Val Loss: 2.3020, Val Acc: 10.00%\n"
     ]
    },
    {
     "name": "stderr",
     "output_type": "stream",
     "text": [
      "Epoch [4/10]: 100%|██████████████████████████████████████████████████████████| 32/32 [00:09<00:00,  3.29it/s, loss=2.3]\n"
     ]
    },
    {
     "name": "stdout",
     "output_type": "stream",
     "text": [
      "Epoch [4/10] - Train Loss: 2.3031, Train Acc: 7.80%, Val Loss: 2.3015, Val Acc: 10.00%\n"
     ]
    },
    {
     "name": "stderr",
     "output_type": "stream",
     "text": [
      "Epoch [5/10]: 100%|█████████████████████████████████████████████████████████| 32/32 [00:09<00:00,  3.28it/s, loss=2.31]\n"
     ]
    },
    {
     "name": "stdout",
     "output_type": "stream",
     "text": [
      "Epoch [5/10] - Train Loss: 2.3032, Train Acc: 9.00%, Val Loss: 2.3019, Val Acc: 10.00%\n"
     ]
    },
    {
     "name": "stderr",
     "output_type": "stream",
     "text": [
      "Epoch [6/10]: 100%|██████████████████████████████████████████████████████████| 32/32 [00:09<00:00,  3.34it/s, loss=2.3]\n"
     ]
    },
    {
     "name": "stdout",
     "output_type": "stream",
     "text": [
      "Epoch [6/10] - Train Loss: 2.3024, Train Acc: 9.90%, Val Loss: 2.3019, Val Acc: 10.00%\n",
      "Early stopping triggered\n",
      "Best Validation Accuracy: 10.00%\n",
      "Training with optimizer AdamW and batch size 8\n"
     ]
    },
    {
     "name": "stderr",
     "output_type": "stream",
     "text": [
      "Epoch [1/10]: 100%|███████████████████████████████████████████████████████| 125/125 [00:16<00:00,  7.67it/s, loss=2.31]\n"
     ]
    },
    {
     "name": "stdout",
     "output_type": "stream",
     "text": [
      "Epoch [1/10] - Train Loss: 2.3042, Train Acc: 8.70%, Val Loss: 2.3030, Val Acc: 10.00%\n"
     ]
    },
    {
     "name": "stderr",
     "output_type": "stream",
     "text": [
      "Epoch [2/10]: 100%|████████████████████████████████████████████████████████| 125/125 [00:16<00:00,  7.77it/s, loss=2.3]\n"
     ]
    },
    {
     "name": "stdout",
     "output_type": "stream",
     "text": [
      "Epoch [2/10] - Train Loss: 2.3033, Train Acc: 9.00%, Val Loss: 2.3028, Val Acc: 10.00%\n"
     ]
    },
    {
     "name": "stderr",
     "output_type": "stream",
     "text": [
      "Epoch [3/10]: 100%|████████████████████████████████████████████████████████| 125/125 [00:16<00:00,  7.76it/s, loss=2.3]\n"
     ]
    },
    {
     "name": "stdout",
     "output_type": "stream",
     "text": [
      "Epoch [3/10] - Train Loss: 2.3037, Train Acc: 8.40%, Val Loss: 2.3029, Val Acc: 10.00%\n"
     ]
    },
    {
     "name": "stderr",
     "output_type": "stream",
     "text": [
      "Epoch [4/10]: 100%|████████████████████████████████████████████████████████| 125/125 [00:16<00:00,  7.77it/s, loss=2.3]\n"
     ]
    },
    {
     "name": "stdout",
     "output_type": "stream",
     "text": [
      "Epoch [4/10] - Train Loss: 2.3033, Train Acc: 8.80%, Val Loss: 2.3027, Val Acc: 10.00%\n"
     ]
    },
    {
     "name": "stderr",
     "output_type": "stream",
     "text": [
      "Epoch [5/10]: 100%|███████████████████████████████████████████████████████| 125/125 [00:16<00:00,  7.75it/s, loss=2.31]\n"
     ]
    },
    {
     "name": "stdout",
     "output_type": "stream",
     "text": [
      "Epoch [5/10] - Train Loss: 2.3033, Train Acc: 9.80%, Val Loss: 2.3026, Val Acc: 10.00%\n"
     ]
    },
    {
     "name": "stderr",
     "output_type": "stream",
     "text": [
      "Epoch [6/10]: 100%|████████████████████████████████████████████████████████| 125/125 [00:16<00:00,  7.77it/s, loss=2.3]\n"
     ]
    },
    {
     "name": "stdout",
     "output_type": "stream",
     "text": [
      "Epoch [6/10] - Train Loss: 2.3029, Train Acc: 7.60%, Val Loss: 2.3027, Val Acc: 10.00%\n",
      "Early stopping triggered\n",
      "Best Validation Accuracy: 10.00%\n",
      "Training with optimizer AdamW and batch size 16\n"
     ]
    },
    {
     "name": "stderr",
     "output_type": "stream",
     "text": [
      "Epoch [1/10]: 100%|██████████████████████████████████████████████████████████| 63/63 [00:12<00:00,  5.20it/s, loss=2.3]\n"
     ]
    },
    {
     "name": "stdout",
     "output_type": "stream",
     "text": [
      "Epoch [1/10] - Train Loss: 2.3036, Train Acc: 9.00%, Val Loss: 2.3002, Val Acc: 10.00%\n"
     ]
    },
    {
     "name": "stderr",
     "output_type": "stream",
     "text": [
      "Epoch [2/10]: 100%|██████████████████████████████████████████████████████████| 63/63 [00:12<00:00,  5.23it/s, loss=2.3]\n"
     ]
    },
    {
     "name": "stdout",
     "output_type": "stream",
     "text": [
      "Epoch [2/10] - Train Loss: 2.3030, Train Acc: 9.90%, Val Loss: 2.3004, Val Acc: 10.00%\n"
     ]
    },
    {
     "name": "stderr",
     "output_type": "stream",
     "text": [
      "Epoch [3/10]: 100%|██████████████████████████████████████████████████████████| 63/63 [00:12<00:00,  5.17it/s, loss=2.3]\n"
     ]
    },
    {
     "name": "stdout",
     "output_type": "stream",
     "text": [
      "Epoch [3/10] - Train Loss: 2.3031, Train Acc: 9.40%, Val Loss: 2.3007, Val Acc: 10.00%\n"
     ]
    },
    {
     "name": "stderr",
     "output_type": "stream",
     "text": [
      "Epoch [4/10]: 100%|██████████████████████████████████████████████████████████| 63/63 [00:12<00:00,  5.17it/s, loss=2.3]\n"
     ]
    },
    {
     "name": "stdout",
     "output_type": "stream",
     "text": [
      "Epoch [4/10] - Train Loss: 2.3032, Train Acc: 8.40%, Val Loss: 2.3012, Val Acc: 10.00%\n"
     ]
    },
    {
     "name": "stderr",
     "output_type": "stream",
     "text": [
      "Epoch [5/10]: 100%|██████████████████████████████████████████████████████████| 63/63 [00:12<00:00,  5.23it/s, loss=2.3]\n"
     ]
    },
    {
     "name": "stdout",
     "output_type": "stream",
     "text": [
      "Epoch [5/10] - Train Loss: 2.3032, Train Acc: 10.10%, Val Loss: 2.3016, Val Acc: 10.00%\n"
     ]
    },
    {
     "name": "stderr",
     "output_type": "stream",
     "text": [
      "Epoch [6/10]: 100%|█████████████████████████████████████████████████████████| 63/63 [00:12<00:00,  5.22it/s, loss=2.29]\n"
     ]
    },
    {
     "name": "stdout",
     "output_type": "stream",
     "text": [
      "Epoch [6/10] - Train Loss: 2.3025, Train Acc: 10.10%, Val Loss: 2.3017, Val Acc: 10.00%\n",
      "Early stopping triggered\n",
      "Best Validation Accuracy: 10.00%\n",
      "Training with optimizer AdamW and batch size 32\n"
     ]
    },
    {
     "name": "stderr",
     "output_type": "stream",
     "text": [
      "Epoch [1/10]: 100%|█████████████████████████████████████████████████████████| 32/32 [00:10<00:00,  3.15it/s, loss=2.31]\n"
     ]
    },
    {
     "name": "stdout",
     "output_type": "stream",
     "text": [
      "Epoch [1/10] - Train Loss: 2.3037, Train Acc: 8.70%, Val Loss: 2.3022, Val Acc: 10.00%\n"
     ]
    },
    {
     "name": "stderr",
     "output_type": "stream",
     "text": [
      "Epoch [2/10]: 100%|██████████████████████████████████████████████████████████| 32/32 [00:10<00:00,  3.19it/s, loss=2.3]\n"
     ]
    },
    {
     "name": "stdout",
     "output_type": "stream",
     "text": [
      "Epoch [2/10] - Train Loss: 2.3028, Train Acc: 8.60%, Val Loss: 2.3034, Val Acc: 10.00%\n"
     ]
    },
    {
     "name": "stderr",
     "output_type": "stream",
     "text": [
      "Epoch [3/10]: 100%|█████████████████████████████████████████████████████████| 32/32 [00:10<00:00,  3.18it/s, loss=2.31]\n"
     ]
    },
    {
     "name": "stdout",
     "output_type": "stream",
     "text": [
      "Epoch [3/10] - Train Loss: 2.3032, Train Acc: 8.90%, Val Loss: 2.3027, Val Acc: 10.00%\n"
     ]
    },
    {
     "name": "stderr",
     "output_type": "stream",
     "text": [
      "Epoch [4/10]: 100%|█████████████████████████████████████████████████████████| 32/32 [00:10<00:00,  3.18it/s, loss=2.31]\n"
     ]
    },
    {
     "name": "stdout",
     "output_type": "stream",
     "text": [
      "Epoch [4/10] - Train Loss: 2.3032, Train Acc: 7.50%, Val Loss: 2.3051, Val Acc: 10.00%\n"
     ]
    },
    {
     "name": "stderr",
     "output_type": "stream",
     "text": [
      "Epoch [5/10]: 100%|█████████████████████████████████████████████████████████| 32/32 [00:10<00:00,  3.12it/s, loss=2.31]\n"
     ]
    },
    {
     "name": "stdout",
     "output_type": "stream",
     "text": [
      "Epoch [5/10] - Train Loss: 2.3031, Train Acc: 9.50%, Val Loss: 2.3031, Val Acc: 10.00%\n"
     ]
    },
    {
     "name": "stderr",
     "output_type": "stream",
     "text": [
      "Epoch [6/10]: 100%|██████████████████████████████████████████████████████████| 32/32 [00:10<00:00,  3.15it/s, loss=2.3]\n"
     ]
    },
    {
     "name": "stdout",
     "output_type": "stream",
     "text": [
      "Epoch [6/10] - Train Loss: 2.3028, Train Acc: 9.40%, Val Loss: 2.3030, Val Acc: 10.00%\n",
      "Early stopping triggered\n",
      "Best Validation Accuracy: 10.00%\n",
      "Training with optimizer Adamax and batch size 8\n"
     ]
    },
    {
     "name": "stderr",
     "output_type": "stream",
     "text": [
      "Epoch [1/10]: 100%|████████████████████████████████████████████████████████| 125/125 [00:15<00:00,  8.23it/s, loss=2.3]\n"
     ]
    },
    {
     "name": "stdout",
     "output_type": "stream",
     "text": [
      "Epoch [1/10] - Train Loss: 2.3032, Train Acc: 9.80%, Val Loss: 2.3023, Val Acc: 10.00%\n"
     ]
    },
    {
     "name": "stderr",
     "output_type": "stream",
     "text": [
      "Epoch [2/10]: 100%|████████████████████████████████████████████████████████| 125/125 [00:14<00:00,  8.34it/s, loss=2.3]\n"
     ]
    },
    {
     "name": "stdout",
     "output_type": "stream",
     "text": [
      "Epoch [2/10] - Train Loss: 2.3032, Train Acc: 9.20%, Val Loss: 2.3023, Val Acc: 10.00%\n"
     ]
    },
    {
     "name": "stderr",
     "output_type": "stream",
     "text": [
      "Epoch [3/10]: 100%|███████████████████████████████████████████████████████| 125/125 [00:15<00:00,  8.28it/s, loss=2.31]\n"
     ]
    },
    {
     "name": "stdout",
     "output_type": "stream",
     "text": [
      "Epoch [3/10] - Train Loss: 2.3027, Train Acc: 9.50%, Val Loss: 2.3022, Val Acc: 10.00%\n"
     ]
    },
    {
     "name": "stderr",
     "output_type": "stream",
     "text": [
      "Epoch [4/10]: 100%|███████████████████████████████████████████████████████| 125/125 [00:15<00:00,  8.29it/s, loss=2.31]\n"
     ]
    },
    {
     "name": "stdout",
     "output_type": "stream",
     "text": [
      "Epoch [4/10] - Train Loss: 2.3029, Train Acc: 9.70%, Val Loss: 2.3022, Val Acc: 10.00%\n"
     ]
    },
    {
     "name": "stderr",
     "output_type": "stream",
     "text": [
      "Epoch [5/10]: 100%|████████████████████████████████████████████████████████| 125/125 [00:14<00:00,  8.37it/s, loss=2.3]\n"
     ]
    },
    {
     "name": "stdout",
     "output_type": "stream",
     "text": [
      "Epoch [5/10] - Train Loss: 2.3032, Train Acc: 10.50%, Val Loss: 2.3024, Val Acc: 10.00%\n"
     ]
    },
    {
     "name": "stderr",
     "output_type": "stream",
     "text": [
      "Epoch [6/10]: 100%|████████████████████████████████████████████████████████| 125/125 [00:14<00:00,  8.37it/s, loss=2.3]\n"
     ]
    },
    {
     "name": "stdout",
     "output_type": "stream",
     "text": [
      "Epoch [6/10] - Train Loss: 2.3025, Train Acc: 12.10%, Val Loss: 2.3023, Val Acc: 10.00%\n",
      "Early stopping triggered\n",
      "Best Validation Accuracy: 10.00%\n",
      "Training with optimizer Adamax and batch size 16\n"
     ]
    },
    {
     "name": "stderr",
     "output_type": "stream",
     "text": [
      "Epoch [1/10]: 100%|██████████████████████████████████████████████████████████| 63/63 [00:11<00:00,  5.38it/s, loss=2.3]\n"
     ]
    },
    {
     "name": "stdout",
     "output_type": "stream",
     "text": [
      "Epoch [1/10] - Train Loss: 2.3032, Train Acc: 9.40%, Val Loss: 2.3045, Val Acc: 10.00%\n"
     ]
    },
    {
     "name": "stderr",
     "output_type": "stream",
     "text": [
      "Epoch [2/10]: 100%|██████████████████████████████████████████████████████████| 63/63 [00:11<00:00,  5.48it/s, loss=2.3]\n"
     ]
    },
    {
     "name": "stdout",
     "output_type": "stream",
     "text": [
      "Epoch [2/10] - Train Loss: 2.3030, Train Acc: 10.00%, Val Loss: 2.3043, Val Acc: 10.00%\n"
     ]
    },
    {
     "name": "stderr",
     "output_type": "stream",
     "text": [
      "Epoch [3/10]: 100%|██████████████████████████████████████████████████████████| 63/63 [00:11<00:00,  5.47it/s, loss=2.3]\n"
     ]
    },
    {
     "name": "stdout",
     "output_type": "stream",
     "text": [
      "Epoch [3/10] - Train Loss: 2.3030, Train Acc: 8.70%, Val Loss: 2.3038, Val Acc: 10.00%\n"
     ]
    },
    {
     "name": "stderr",
     "output_type": "stream",
     "text": [
      "Epoch [4/10]: 100%|██████████████████████████████████████████████████████████| 63/63 [00:11<00:00,  5.49it/s, loss=2.3]\n"
     ]
    },
    {
     "name": "stdout",
     "output_type": "stream",
     "text": [
      "Epoch [4/10] - Train Loss: 2.3029, Train Acc: 9.80%, Val Loss: 2.3035, Val Acc: 10.00%\n"
     ]
    },
    {
     "name": "stderr",
     "output_type": "stream",
     "text": [
      "Epoch [5/10]: 100%|█████████████████████████████████████████████████████████| 63/63 [00:11<00:00,  5.47it/s, loss=2.31]\n"
     ]
    },
    {
     "name": "stdout",
     "output_type": "stream",
     "text": [
      "Epoch [5/10] - Train Loss: 2.3025, Train Acc: 11.00%, Val Loss: 2.3034, Val Acc: 10.00%\n"
     ]
    },
    {
     "name": "stderr",
     "output_type": "stream",
     "text": [
      "Epoch [6/10]: 100%|██████████████████████████████████████████████████████████| 63/63 [00:11<00:00,  5.47it/s, loss=2.3]\n"
     ]
    },
    {
     "name": "stdout",
     "output_type": "stream",
     "text": [
      "Epoch [6/10] - Train Loss: 2.3028, Train Acc: 8.80%, Val Loss: 2.3034, Val Acc: 10.00%\n",
      "Early stopping triggered\n",
      "Best Validation Accuracy: 10.00%\n",
      "Training with optimizer Adamax and batch size 32\n"
     ]
    },
    {
     "name": "stderr",
     "output_type": "stream",
     "text": [
      "Epoch [1/10]: 100%|█████████████████████████████████████████████████████████| 32/32 [00:09<00:00,  3.20it/s, loss=2.31]\n"
     ]
    },
    {
     "name": "stdout",
     "output_type": "stream",
     "text": [
      "Epoch [1/10] - Train Loss: 2.3031, Train Acc: 9.30%, Val Loss: 2.3050, Val Acc: 10.00%\n"
     ]
    },
    {
     "name": "stderr",
     "output_type": "stream",
     "text": [
      "Epoch [2/10]: 100%|█████████████████████████████████████████████████████████| 32/32 [00:09<00:00,  3.28it/s, loss=2.31]\n"
     ]
    },
    {
     "name": "stdout",
     "output_type": "stream",
     "text": [
      "Epoch [2/10] - Train Loss: 2.3030, Train Acc: 9.80%, Val Loss: 2.3047, Val Acc: 10.00%\n"
     ]
    },
    {
     "name": "stderr",
     "output_type": "stream",
     "text": [
      "Epoch [3/10]: 100%|██████████████████████████████████████████████████████████| 32/32 [00:09<00:00,  3.23it/s, loss=2.3]\n"
     ]
    },
    {
     "name": "stdout",
     "output_type": "stream",
     "text": [
      "Epoch [3/10] - Train Loss: 2.3028, Train Acc: 9.80%, Val Loss: 2.3054, Val Acc: 10.00%\n"
     ]
    },
    {
     "name": "stderr",
     "output_type": "stream",
     "text": [
      "Epoch [4/10]: 100%|█████████████████████████████████████████████████████████| 32/32 [00:09<00:00,  3.28it/s, loss=2.31]\n"
     ]
    },
    {
     "name": "stdout",
     "output_type": "stream",
     "text": [
      "Epoch [4/10] - Train Loss: 2.3029, Train Acc: 9.80%, Val Loss: 2.3047, Val Acc: 10.00%\n"
     ]
    },
    {
     "name": "stderr",
     "output_type": "stream",
     "text": [
      "Epoch [5/10]: 100%|██████████████████████████████████████████████████████████| 32/32 [00:09<00:00,  3.26it/s, loss=2.3]\n"
     ]
    },
    {
     "name": "stdout",
     "output_type": "stream",
     "text": [
      "Epoch [5/10] - Train Loss: 2.3029, Train Acc: 10.30%, Val Loss: 2.3042, Val Acc: 10.00%\n"
     ]
    },
    {
     "name": "stderr",
     "output_type": "stream",
     "text": [
      "Epoch [6/10]: 100%|█████████████████████████████████████████████████████████| 32/32 [00:09<00:00,  3.23it/s, loss=2.31]\n"
     ]
    },
    {
     "name": "stdout",
     "output_type": "stream",
     "text": [
      "Epoch [6/10] - Train Loss: 2.3028, Train Acc: 9.60%, Val Loss: 2.3042, Val Acc: 10.00%\n",
      "Early stopping triggered\n",
      "Best Validation Accuracy: 10.00%\n",
      "Training with optimizer RAdam and batch size 8\n"
     ]
    },
    {
     "name": "stderr",
     "output_type": "stream",
     "text": [
      "Epoch [1/10]: 100%|████████████████████████████████████████████████████████| 125/125 [00:16<00:00,  7.43it/s, loss=2.3]\n"
     ]
    },
    {
     "name": "stdout",
     "output_type": "stream",
     "text": [
      "Epoch [1/10] - Train Loss: 2.3025, Train Acc: 10.70%, Val Loss: 2.3026, Val Acc: 10.00%\n"
     ]
    },
    {
     "name": "stderr",
     "output_type": "stream",
     "text": [
      "Epoch [2/10]: 100%|████████████████████████████████████████████████████████| 125/125 [00:16<00:00,  7.52it/s, loss=2.3]\n"
     ]
    },
    {
     "name": "stdout",
     "output_type": "stream",
     "text": [
      "Epoch [2/10] - Train Loss: 2.3026, Train Acc: 10.10%, Val Loss: 2.3026, Val Acc: 10.00%\n"
     ]
    },
    {
     "name": "stderr",
     "output_type": "stream",
     "text": [
      "Epoch [3/10]: 100%|███████████████████████████████████████████████████████| 125/125 [00:16<00:00,  7.50it/s, loss=2.31]\n"
     ]
    },
    {
     "name": "stdout",
     "output_type": "stream",
     "text": [
      "Epoch [3/10] - Train Loss: 2.3030, Train Acc: 8.00%, Val Loss: 2.3024, Val Acc: 10.00%\n"
     ]
    },
    {
     "name": "stderr",
     "output_type": "stream",
     "text": [
      "Epoch [4/10]: 100%|████████████████████████████████████████████████████████| 125/125 [00:16<00:00,  7.44it/s, loss=2.3]\n"
     ]
    },
    {
     "name": "stdout",
     "output_type": "stream",
     "text": [
      "Epoch [4/10] - Train Loss: 2.3030, Train Acc: 9.60%, Val Loss: 2.3026, Val Acc: 10.00%\n"
     ]
    },
    {
     "name": "stderr",
     "output_type": "stream",
     "text": [
      "Epoch [5/10]: 100%|████████████████████████████████████████████████████████| 125/125 [00:16<00:00,  7.49it/s, loss=2.3]\n"
     ]
    },
    {
     "name": "stdout",
     "output_type": "stream",
     "text": [
      "Epoch [5/10] - Train Loss: 2.3031, Train Acc: 9.00%, Val Loss: 2.3025, Val Acc: 10.00%\n"
     ]
    },
    {
     "name": "stderr",
     "output_type": "stream",
     "text": [
      "Epoch [6/10]: 100%|████████████████████████████████████████████████████████| 125/125 [00:16<00:00,  7.51it/s, loss=2.3]\n"
     ]
    },
    {
     "name": "stdout",
     "output_type": "stream",
     "text": [
      "Epoch [6/10] - Train Loss: 2.3026, Train Acc: 10.40%, Val Loss: 2.3025, Val Acc: 10.00%\n",
      "Early stopping triggered\n",
      "Best Validation Accuracy: 10.00%\n",
      "Training with optimizer RAdam and batch size 16\n"
     ]
    },
    {
     "name": "stderr",
     "output_type": "stream",
     "text": [
      "Epoch [1/10]: 100%|██████████████████████████████████████████████████████████| 63/63 [00:12<00:00,  5.05it/s, loss=2.3]\n"
     ]
    },
    {
     "name": "stdout",
     "output_type": "stream",
     "text": [
      "Epoch [1/10] - Train Loss: 2.3026, Train Acc: 10.40%, Val Loss: 2.3018, Val Acc: 10.00%\n"
     ]
    },
    {
     "name": "stderr",
     "output_type": "stream",
     "text": [
      "Epoch [2/10]: 100%|██████████████████████████████████████████████████████████| 63/63 [00:12<00:00,  5.10it/s, loss=2.3]\n"
     ]
    },
    {
     "name": "stdout",
     "output_type": "stream",
     "text": [
      "Epoch [2/10] - Train Loss: 2.3028, Train Acc: 9.70%, Val Loss: 2.3018, Val Acc: 10.00%\n"
     ]
    },
    {
     "name": "stderr",
     "output_type": "stream",
     "text": [
      "Epoch [3/10]: 100%|█████████████████████████████████████████████████████████| 63/63 [00:12<00:00,  5.10it/s, loss=2.31]\n"
     ]
    },
    {
     "name": "stdout",
     "output_type": "stream",
     "text": [
      "Epoch [3/10] - Train Loss: 2.3028, Train Acc: 9.40%, Val Loss: 2.3019, Val Acc: 10.00%\n"
     ]
    },
    {
     "name": "stderr",
     "output_type": "stream",
     "text": [
      "Epoch [4/10]: 100%|██████████████████████████████████████████████████████████| 63/63 [00:12<00:00,  5.09it/s, loss=2.3]\n"
     ]
    },
    {
     "name": "stdout",
     "output_type": "stream",
     "text": [
      "Epoch [4/10] - Train Loss: 2.3027, Train Acc: 10.50%, Val Loss: 2.3020, Val Acc: 10.00%\n"
     ]
    },
    {
     "name": "stderr",
     "output_type": "stream",
     "text": [
      "Epoch [5/10]: 100%|██████████████████████████████████████████████████████████| 63/63 [00:12<00:00,  5.10it/s, loss=2.3]\n"
     ]
    },
    {
     "name": "stdout",
     "output_type": "stream",
     "text": [
      "Epoch [5/10] - Train Loss: 2.3029, Train Acc: 8.60%, Val Loss: 2.3021, Val Acc: 10.00%\n"
     ]
    },
    {
     "name": "stderr",
     "output_type": "stream",
     "text": [
      "Epoch [6/10]: 100%|██████████████████████████████████████████████████████████| 63/63 [00:12<00:00,  5.09it/s, loss=2.3]\n"
     ]
    },
    {
     "name": "stdout",
     "output_type": "stream",
     "text": [
      "Epoch [6/10] - Train Loss: 2.3026, Train Acc: 9.90%, Val Loss: 2.3021, Val Acc: 10.00%\n",
      "Early stopping triggered\n",
      "Best Validation Accuracy: 10.00%\n",
      "Training with optimizer RAdam and batch size 32\n"
     ]
    },
    {
     "name": "stderr",
     "output_type": "stream",
     "text": [
      "Epoch [1/10]: 100%|██████████████████████████████████████████████████████████| 32/32 [00:10<00:00,  3.08it/s, loss=2.3]\n"
     ]
    },
    {
     "name": "stdout",
     "output_type": "stream",
     "text": [
      "Epoch [1/10] - Train Loss: 2.3025, Train Acc: 10.90%, Val Loss: 2.3037, Val Acc: 10.00%\n"
     ]
    },
    {
     "name": "stderr",
     "output_type": "stream",
     "text": [
      "Epoch [2/10]: 100%|██████████████████████████████████████████████████████████| 32/32 [00:10<00:00,  3.11it/s, loss=2.3]\n"
     ]
    },
    {
     "name": "stdout",
     "output_type": "stream",
     "text": [
      "Epoch [2/10] - Train Loss: 2.3027, Train Acc: 10.10%, Val Loss: 2.3038, Val Acc: 10.00%\n"
     ]
    },
    {
     "name": "stderr",
     "output_type": "stream",
     "text": [
      "Epoch [3/10]: 100%|██████████████████████████████████████████████████████████| 32/32 [00:10<00:00,  3.15it/s, loss=2.3]\n"
     ]
    },
    {
     "name": "stdout",
     "output_type": "stream",
     "text": [
      "Epoch [3/10] - Train Loss: 2.3026, Train Acc: 10.00%, Val Loss: 2.3037, Val Acc: 10.00%\n"
     ]
    },
    {
     "name": "stderr",
     "output_type": "stream",
     "text": [
      "Epoch [4/10]: 100%|██████████████████████████████████████████████████████████| 32/32 [00:10<00:00,  3.11it/s, loss=2.3]\n"
     ]
    },
    {
     "name": "stdout",
     "output_type": "stream",
     "text": [
      "Epoch [4/10] - Train Loss: 2.3027, Train Acc: 10.10%, Val Loss: 2.3040, Val Acc: 10.00%\n"
     ]
    },
    {
     "name": "stderr",
     "output_type": "stream",
     "text": [
      "Epoch [5/10]: 100%|█████████████████████████████████████████████████████████| 32/32 [00:10<00:00,  3.14it/s, loss=2.31]\n"
     ]
    },
    {
     "name": "stdout",
     "output_type": "stream",
     "text": [
      "Epoch [5/10] - Train Loss: 2.3028, Train Acc: 10.00%, Val Loss: 2.3040, Val Acc: 10.00%\n"
     ]
    },
    {
     "name": "stderr",
     "output_type": "stream",
     "text": [
      "Epoch [6/10]: 100%|██████████████████████████████████████████████████████████| 32/32 [00:10<00:00,  3.10it/s, loss=2.3]\n"
     ]
    },
    {
     "name": "stdout",
     "output_type": "stream",
     "text": [
      "Epoch [6/10] - Train Loss: 2.3027, Train Acc: 9.20%, Val Loss: 2.3039, Val Acc: 10.00%\n",
      "Early stopping triggered\n",
      "Best Validation Accuracy: 10.00%\n",
      "Training with optimizer NAdam and batch size 8\n"
     ]
    },
    {
     "name": "stderr",
     "output_type": "stream",
     "text": [
      "Epoch [1/10]: 100%|████████████████████████████████████████████████████████| 125/125 [00:16<00:00,  7.45it/s, loss=2.3]\n"
     ]
    },
    {
     "name": "stdout",
     "output_type": "stream",
     "text": [
      "Epoch [1/10] - Train Loss: 2.3039, Train Acc: 9.20%, Val Loss: 2.3025, Val Acc: 10.00%\n"
     ]
    },
    {
     "name": "stderr",
     "output_type": "stream",
     "text": [
      "Epoch [2/10]: 100%|████████████████████████████████████████████████████████| 125/125 [00:16<00:00,  7.52it/s, loss=2.3]\n"
     ]
    },
    {
     "name": "stdout",
     "output_type": "stream",
     "text": [
      "Epoch [2/10] - Train Loss: 2.3036, Train Acc: 7.30%, Val Loss: 2.3026, Val Acc: 10.00%\n"
     ]
    },
    {
     "name": "stderr",
     "output_type": "stream",
     "text": [
      "Epoch [3/10]: 100%|████████████████████████████████████████████████████████| 125/125 [00:16<00:00,  7.53it/s, loss=2.3]\n"
     ]
    },
    {
     "name": "stdout",
     "output_type": "stream",
     "text": [
      "Epoch [3/10] - Train Loss: 2.3036, Train Acc: 8.50%, Val Loss: 2.3026, Val Acc: 10.00%\n"
     ]
    },
    {
     "name": "stderr",
     "output_type": "stream",
     "text": [
      "Epoch [4/10]: 100%|███████████████████████████████████████████████████████| 125/125 [00:16<00:00,  7.55it/s, loss=2.31]\n"
     ]
    },
    {
     "name": "stdout",
     "output_type": "stream",
     "text": [
      "Epoch [4/10] - Train Loss: 2.3038, Train Acc: 8.10%, Val Loss: 2.3024, Val Acc: 10.00%\n"
     ]
    },
    {
     "name": "stderr",
     "output_type": "stream",
     "text": [
      "Epoch [5/10]: 100%|████████████████████████████████████████████████████████| 125/125 [00:16<00:00,  7.55it/s, loss=2.3]\n"
     ]
    },
    {
     "name": "stdout",
     "output_type": "stream",
     "text": [
      "Epoch [5/10] - Train Loss: 2.3034, Train Acc: 8.40%, Val Loss: 2.3024, Val Acc: 10.00%\n"
     ]
    },
    {
     "name": "stderr",
     "output_type": "stream",
     "text": [
      "Epoch [6/10]: 100%|███████████████████████████████████████████████████████| 125/125 [00:16<00:00,  7.55it/s, loss=2.31]\n"
     ]
    },
    {
     "name": "stdout",
     "output_type": "stream",
     "text": [
      "Epoch [6/10] - Train Loss: 2.3027, Train Acc: 10.90%, Val Loss: 2.3024, Val Acc: 10.00%\n",
      "Early stopping triggered\n",
      "Best Validation Accuracy: 10.00%\n",
      "Training with optimizer NAdam and batch size 16\n"
     ]
    },
    {
     "name": "stderr",
     "output_type": "stream",
     "text": [
      "Epoch [1/10]: 100%|█████████████████████████████████████████████████████████| 63/63 [00:12<00:00,  5.10it/s, loss=2.31]\n"
     ]
    },
    {
     "name": "stdout",
     "output_type": "stream",
     "text": [
      "Epoch [1/10] - Train Loss: 2.3031, Train Acc: 8.70%, Val Loss: 2.3037, Val Acc: 10.00%\n"
     ]
    },
    {
     "name": "stderr",
     "output_type": "stream",
     "text": [
      "Epoch [2/10]: 100%|██████████████████████████████████████████████████████████| 63/63 [00:12<00:00,  5.09it/s, loss=2.3]\n"
     ]
    },
    {
     "name": "stdout",
     "output_type": "stream",
     "text": [
      "Epoch [2/10] - Train Loss: 2.3035, Train Acc: 8.70%, Val Loss: 2.3034, Val Acc: 10.00%\n"
     ]
    },
    {
     "name": "stderr",
     "output_type": "stream",
     "text": [
      "Epoch [3/10]: 100%|██████████████████████████████████████████████████████████| 63/63 [00:12<00:00,  5.10it/s, loss=2.3]\n"
     ]
    },
    {
     "name": "stdout",
     "output_type": "stream",
     "text": [
      "Epoch [3/10] - Train Loss: 2.3033, Train Acc: 9.60%, Val Loss: 2.3030, Val Acc: 10.00%\n"
     ]
    },
    {
     "name": "stderr",
     "output_type": "stream",
     "text": [
      "Epoch [4/10]: 100%|██████████████████████████████████████████████████████████| 63/63 [00:12<00:00,  5.12it/s, loss=2.3]\n"
     ]
    },
    {
     "name": "stdout",
     "output_type": "stream",
     "text": [
      "Epoch [4/10] - Train Loss: 2.3032, Train Acc: 8.70%, Val Loss: 2.3037, Val Acc: 10.00%\n"
     ]
    },
    {
     "name": "stderr",
     "output_type": "stream",
     "text": [
      "Epoch [5/10]: 100%|██████████████████████████████████████████████████████████| 63/63 [00:12<00:00,  5.09it/s, loss=2.3]\n"
     ]
    },
    {
     "name": "stdout",
     "output_type": "stream",
     "text": [
      "Epoch [5/10] - Train Loss: 2.3034, Train Acc: 8.10%, Val Loss: 2.3034, Val Acc: 10.00%\n"
     ]
    },
    {
     "name": "stderr",
     "output_type": "stream",
     "text": [
      "Epoch [6/10]: 100%|██████████████████████████████████████████████████████████| 63/63 [00:12<00:00,  5.12it/s, loss=2.3]\n"
     ]
    },
    {
     "name": "stdout",
     "output_type": "stream",
     "text": [
      "Epoch [6/10] - Train Loss: 2.3026, Train Acc: 9.80%, Val Loss: 2.3034, Val Acc: 10.00%\n",
      "Early stopping triggered\n",
      "Best Validation Accuracy: 10.00%\n",
      "Training with optimizer NAdam and batch size 32\n"
     ]
    },
    {
     "name": "stderr",
     "output_type": "stream",
     "text": [
      "Epoch [1/10]: 100%|██████████████████████████████████████████████████████████| 32/32 [00:10<00:00,  3.11it/s, loss=2.3]\n"
     ]
    },
    {
     "name": "stdout",
     "output_type": "stream",
     "text": [
      "Epoch [1/10] - Train Loss: 2.3030, Train Acc: 10.20%, Val Loss: 2.3011, Val Acc: 10.00%\n"
     ]
    },
    {
     "name": "stderr",
     "output_type": "stream",
     "text": [
      "Epoch [2/10]: 100%|██████████████████████████████████████████████████████████| 32/32 [00:10<00:00,  3.13it/s, loss=2.3]\n"
     ]
    },
    {
     "name": "stdout",
     "output_type": "stream",
     "text": [
      "Epoch [2/10] - Train Loss: 2.3032, Train Acc: 8.40%, Val Loss: 2.3006, Val Acc: 10.00%\n"
     ]
    },
    {
     "name": "stderr",
     "output_type": "stream",
     "text": [
      "Epoch [3/10]: 100%|██████████████████████████████████████████████████████████| 32/32 [00:10<00:00,  3.13it/s, loss=2.3]\n"
     ]
    },
    {
     "name": "stdout",
     "output_type": "stream",
     "text": [
      "Epoch [3/10] - Train Loss: 2.3029, Train Acc: 9.70%, Val Loss: 2.3017, Val Acc: 10.00%\n"
     ]
    },
    {
     "name": "stderr",
     "output_type": "stream",
     "text": [
      "Epoch [4/10]: 100%|█████████████████████████████████████████████████████████| 32/32 [00:10<00:00,  3.12it/s, loss=2.31]\n"
     ]
    },
    {
     "name": "stdout",
     "output_type": "stream",
     "text": [
      "Epoch [4/10] - Train Loss: 2.3033, Train Acc: 9.50%, Val Loss: 2.3020, Val Acc: 10.00%\n"
     ]
    },
    {
     "name": "stderr",
     "output_type": "stream",
     "text": [
      "Epoch [5/10]: 100%|██████████████████████████████████████████████████████████| 32/32 [00:10<00:00,  3.14it/s, loss=2.3]\n"
     ]
    },
    {
     "name": "stdout",
     "output_type": "stream",
     "text": [
      "Epoch [5/10] - Train Loss: 2.3032, Train Acc: 9.00%, Val Loss: 2.3018, Val Acc: 10.00%\n"
     ]
    },
    {
     "name": "stderr",
     "output_type": "stream",
     "text": [
      "Epoch [6/10]: 100%|█████████████████████████████████████████████████████████| 32/32 [00:10<00:00,  3.15it/s, loss=2.31]\n"
     ]
    },
    {
     "name": "stdout",
     "output_type": "stream",
     "text": [
      "Epoch [6/10] - Train Loss: 2.3028, Train Acc: 9.70%, Val Loss: 2.3018, Val Acc: 10.00%\n",
      "Early stopping triggered\n",
      "Best Validation Accuracy: 10.00%\n"
     ]
    }
   ],
   "source": [
    "# List of optimizers to be used\n",
    "# optimizers_list = ['SGD', 'Adam', 'RMSprop', 'AdamW', 'Adamax', 'SparseAdam', 'RAdam', 'NAdam']\n",
    "optimizers_list = ['SGD', 'Adam', 'RMSprop', 'AdamW', 'Adamax', 'RAdam', 'NAdam']\n",
    "# optimizers_list = ['RAdam', 'NAdam']\n",
    "\n",
    "# List of batch sizes to be used\n",
    "batch_sizes = [8, 16, 32]\n",
    "\n",
    "num_epochs = 10\n",
    "\n",
    "# Train and evaluate for different optimizers and batch sizes\n",
    "loss_dict, acc_dict = {}, {}\n",
    "\n",
    "for optimizer_name in optimizers_list:\n",
    "    for batch_size in batch_sizes:\n",
    "        print(f'Training with optimizer {optimizer_name} and batch size {batch_size}')\n",
    "        train_loader, val_loader = get_data_loaders(data_dir, batch_size)\n",
    "        train_losses, val_losses, train_accuracies, val_accuracies = train_and_evaluate(optimizer_name, train_loader, val_loader)\n",
    "        key = f'{optimizer_name}_bs{batch_size}'\n",
    "        loss_dict[key] = {'train': train_losses, 'val': val_losses}\n",
    "        acc_dict[key] = {'train': train_accuracies, 'val': val_accuracies}"
   ]
  }
 ],
 "metadata": {
  "kernelspec": {
   "display_name": "Python 3 (ipykernel)",
   "language": "python",
   "name": "python3"
  },
  "language_info": {
   "codemirror_mode": {
    "name": "ipython",
    "version": 3
   },
   "file_extension": ".py",
   "mimetype": "text/x-python",
   "name": "python",
   "nbconvert_exporter": "python",
   "pygments_lexer": "ipython3",
   "version": "3.8.19"
  }
 },
 "nbformat": 4,
 "nbformat_minor": 5
}
